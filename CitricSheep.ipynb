{
 "cells": [
  {
   "cell_type": "markdown",
   "id": "a5989f76-0b1b-49e4-9e70-e878bf71df02",
   "metadata": {},
   "source": [
    "## Citric Sheep Challenge:\n",
    "\n",
    "- Start with the string \"CitricSheep\". \n",
    "\n",
    "- Use the ASCII values of each character in the string and generate a list of these values.\n",
    "\n",
    "- Multiply each value in the list by the number of characters in the string.\n",
    "\n",
    "- Find the sum of all numbers in the resulting list.\n",
    "\n",
    "- Use this sum to generate a SHA256 hash.\n",
    "\n",
    "- Convert this hash to a hexadecimal string.\n"
   ]
  },
  {
   "cell_type": "code",
   "execution_count": 1,
   "id": "f97d3b18-3521-4d5c-8cea-06a143c5f2f6",
   "metadata": {},
   "outputs": [],
   "source": [
    "import hashlib"
   ]
  },
  {
   "cell_type": "code",
   "execution_count": 2,
   "id": "0e6f45d8-e80a-4ce1-91e8-2947950b950d",
   "metadata": {},
   "outputs": [],
   "source": [
    "#Starting with a varible for \"CitricSheep\"\n",
    "CS = 'CitricSheep'"
   ]
  },
  {
   "cell_type": "code",
   "execution_count": 3,
   "id": "a6897c0a-0b30-4ab2-9ee2-19d2237024cb",
   "metadata": {},
   "outputs": [],
   "source": [
    "#Creating a list of ASCII values\n",
    "#As we know the ASCII is organized in numerical order. Thus, we can add the items in a list and after just count it\n",
    "tabASCII = []\n",
    "\n",
    "for i in range(128):\n",
    "    tabASCII.append(chr(i))\n",
    "#    print(i)\n"
   ]
  },
  {
   "cell_type": "code",
   "execution_count": 4,
   "id": "bece1f10-964b-4272-907a-61c9f22b8726",
   "metadata": {},
   "outputs": [],
   "source": [
    "#Multiplying all values by the numbers of characteres in the string and saving a list\n",
    "CS_mult = []\n",
    "\n",
    "for i in CS:\n",
    "    if i in tabASCII:\n",
    "        CS_mult.append(tabASCII.index(i) * len(CS))\n",
    "#        print(tabASCII.index(i))\n"
   ]
  },
  {
   "cell_type": "code",
   "execution_count": 5,
   "id": "e7344419-e5fa-4fa3-ab16-51d43395f602",
   "metadata": {},
   "outputs": [],
   "source": [
    "#Summing all items in the list\n",
    "sum_CS_mult = sum(CS_mult)\n",
    "#sum_CS_mult"
   ]
  },
  {
   "cell_type": "code",
   "execution_count": 6,
   "id": "37c5ad17-d6e8-4f57-91ef-c49ed7d9e96a",
   "metadata": {},
   "outputs": [
    {
     "name": "stdout",
     "output_type": "stream",
     "text": [
      "O hash SHA-256 do número 12177 é: 44aad44806272b73f17ba4027a0645985b0851ea5723d4d20c46ae14d6be68b4\n"
     ]
    }
   ],
   "source": [
    "#Generating the SHA-256 hash\n",
    "\n",
    "#Converting the number to string\n",
    "num_byte = str(sum_CS_mult).encode()\n",
    "\n",
    "#Creating the hash SHA-256\n",
    "hash_obj = hashlib.sha256(num_byte)\n",
    "\n",
    "#Converting the hash to hexadecimal\n",
    "hash_hex = hash_obj.hexdigest()\n",
    "\n",
    "#Printing the result\n",
    "print(f\"O hash SHA-256 do número {sum_CS_mult} é: {hash_hex}\")\n"
   ]
  },
  {
   "cell_type": "code",
   "execution_count": null,
   "id": "53967a32-2c2f-466b-b6a9-1a013fa8047d",
   "metadata": {},
   "outputs": [],
   "source": []
  },
  {
   "cell_type": "code",
   "execution_count": null,
   "id": "5c1cd8b6-9d7d-4fc1-951b-455285c1d853",
   "metadata": {},
   "outputs": [],
   "source": []
  },
  {
   "cell_type": "code",
   "execution_count": null,
   "id": "d95f0628-a741-45d4-a3ae-63e3240d6311",
   "metadata": {},
   "outputs": [],
   "source": []
  }
 ],
 "metadata": {
  "kernelspec": {
   "display_name": "Python 3 (ipykernel)",
   "language": "python",
   "name": "python3"
  },
  "language_info": {
   "codemirror_mode": {
    "name": "ipython",
    "version": 3
   },
   "file_extension": ".py",
   "mimetype": "text/x-python",
   "name": "python",
   "nbconvert_exporter": "python",
   "pygments_lexer": "ipython3",
   "version": "3.11.7"
  }
 },
 "nbformat": 4,
 "nbformat_minor": 5
}
